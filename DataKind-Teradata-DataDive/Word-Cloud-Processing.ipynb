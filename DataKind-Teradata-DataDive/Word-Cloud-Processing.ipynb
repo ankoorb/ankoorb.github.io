{
 "cells": [
  {
   "cell_type": "code",
   "execution_count": 1,
   "metadata": {
    "collapsed": true
   },
   "outputs": [],
   "source": [
    "import pandas as pd\n",
    "pd.set_option('display.max_columns', 100) # Set Number of Columns to view\n",
    "\n",
    "# For viewing files in a specified directory\n",
    "import glob\n",
    "\n",
    "# Import NLTK\n",
    "import nltk\n",
    "\n",
    "# Import Regular Expressions\n",
    "import re"
   ]
  },
  {
   "cell_type": "code",
   "execution_count": 2,
   "metadata": {
    "collapsed": false
   },
   "outputs": [
    {
     "name": "stdout",
     "output_type": "stream",
     "text": [
      "['./data/NPO_Eval_2010Q2.xlsx', './data/Projects Application-Project Evaluation links.xlsx', './data/Projects Applications.xlsx', './data/Projects Awarded.xlsx', './data/Projects-Volunteers Links.xlsx', './data/Volunteers Applications.xlsx', './data/Volunteers Evaluation (2010 - Q2).xlsx', './data/Projects Evaluations (2010 - Q2).xls']\n",
      "8\n"
     ]
    }
   ],
   "source": [
    "# Print files in the folder\n",
    "data_path = './data/' # Path \n",
    "data_xlsx = glob.glob(data_path + '*.xlsx') # List of all *.xlsx files\n",
    "data_xls = glob.glob(data_path + '*.xls') # List of all *.xls files\n",
    "data_files = data_xlsx + data_xls\n",
    "print data_files\n",
    "print len(data_files)"
   ]
  },
  {
   "cell_type": "code",
   "execution_count": 3,
   "metadata": {
    "collapsed": true
   },
   "outputs": [],
   "source": [
    "# Application-Project Evaluation Links\n",
    "df1 = pd.read_excel(data_files[1], 0)\n",
    "\n",
    "# Projects Applications\n",
    "df2 = pd.read_excel(data_files[2], 0)"
   ]
  },
  {
   "cell_type": "code",
   "execution_count": 4,
   "metadata": {
    "collapsed": true
   },
   "outputs": [],
   "source": [
    "df = pd.merge(df2, df1, left_on = ['sgapp_id'], right_on = ['sgaid'], how = 'inner')\n",
    "df = df.drop_duplicates(['sgapp_id'])"
   ]
  },
  {
   "cell_type": "code",
   "execution_count": 16,
   "metadata": {
    "collapsed": false
   },
   "outputs": [
    {
     "name": "stdout",
     "output_type": "stream",
     "text": [
      "Rows:  4472\n"
     ]
    }
   ],
   "source": [
    "# Create a Dataframe to store 'grant_need' text by filtering project status = Declined\n",
    "declined = pd.DataFrame(df[df['project status'] == 'Declined']['grant_need'])\n",
    "# Drop NaN\n",
    "declined.dropna(inplace = True)\n",
    "# Reset index\n",
    "declined.reset_index(inplace = True)\n",
    "# Delete index column\n",
    "declined.pop('index')\n",
    "print 'Rows: ', declined.shape[0]"
   ]
  },
  {
   "cell_type": "code",
   "execution_count": 17,
   "metadata": {
    "collapsed": true
   },
   "outputs": [],
   "source": [
    "# Join text\n",
    "raw = ' '.join(declined['grant_need'])"
   ]
  },
  {
   "cell_type": "code",
   "execution_count": 18,
   "metadata": {
    "collapsed": false
   },
   "outputs": [
    {
     "name": "stdout",
     "output_type": "stream",
     "text": [
      "[u'Our', u'website', u'was', u'last', u'updated', u'six', u'years', u'ago', u'.', u'Since']\n"
     ]
    }
   ],
   "source": [
    "# Tokenize raw text\n",
    "tokens = nltk.wordpunct_tokenize(raw)\n",
    "print tokens[:10]"
   ]
  },
  {
   "cell_type": "code",
   "execution_count": 19,
   "metadata": {
    "collapsed": true
   },
   "outputs": [],
   "source": [
    "# Lower case words\n",
    "tokens = [w.lower() for w in tokens]"
   ]
  },
  {
   "cell_type": "code",
   "execution_count": 20,
   "metadata": {
    "collapsed": true
   },
   "outputs": [],
   "source": [
    "# Stopwords\n",
    "stopwords = pd.read_csv('en_stopwords.txt', names = ['stopword'])\n",
    "stop = list(stopwords['stopword'])"
   ]
  },
  {
   "cell_type": "code",
   "execution_count": 21,
   "metadata": {
    "collapsed": false
   },
   "outputs": [
    {
     "name": "stdout",
     "output_type": "stream",
     "text": [
      "508768\n"
     ]
    }
   ],
   "source": [
    "# Remove stopwords\n",
    "words = [word for word in tokens if word not in stop]\n",
    "print len(words)"
   ]
  },
  {
   "cell_type": "code",
   "execution_count": 22,
   "metadata": {
    "collapsed": true
   },
   "outputs": [],
   "source": [
    "# Remove punctuations and numbers\n",
    "punctuation = re.compile(r'[\\[ \\] \\s -.?!,\"/\\=:;()|0-9]') # punctuation and numbers to be removed\n",
    "words = [punctuation.sub(\"\", word) for word in words]"
   ]
  },
  {
   "cell_type": "code",
   "execution_count": 23,
   "metadata": {
    "collapsed": false
   },
   "outputs": [
    {
     "name": "stdout",
     "output_type": "stream",
     "text": [
      "17376\n"
     ]
    }
   ],
   "source": [
    "# Frequency distribution of words\n",
    "fdist = nltk.FreqDist(words)\n",
    "print len(fdist.most_common())"
   ]
  },
  {
   "cell_type": "code",
   "execution_count": 24,
   "metadata": {
    "collapsed": false
   },
   "outputs": [
    {
     "name": "stdout",
     "output_type": "stream",
     "text": [
      "['website', 'organization', 'community', 'services', 'grant', 'staff', 'service', 'programs', 'program', 'board', 'years', 'strategic', 'support', 'work', 'current', '\\xe2\\x80\\x99', 'plan', 'marketing', 'year', 'mission', 'information', 'time', 'development', 'brand', 'donors', 'site', '\\xe2\\x82\\xac\\xe2\\x84\\xa2', 'key', 'provide', 'taproot', 'members', 'resources', 'foundation', 'funding', 'public', 'strategy', 'school', 'develop', 'people', 'process', 'potential', 'fundraising', 'increase', 'annual', 'volunteers', 'growth', 'report', 'serve', 'web', 'create', 'make', 'capacity', 'center', 'agency', 'identity', 'education', 'students', 'clients', 'effective', 'health', 'efforts', 'planning', 'impact', 'organizational', 'messages', 'online', '\\xc3\\xa2', 'funders', 'management', 'donor', 'project', 'goals', 'organizations', 'communications', 'order', 'professional', 'message', 'materials', 'financial', 'database', 'youth', 'past', 'families', 'effectively', 'social', 'ability', 'data', 'messaging', 'children', 'branding', 'assistance', 'critical', 'brochure', 'build', 'building', 'strong', 'area', 'including', 'reach']\n",
      "[4195, 3732, 3215, 2664, 2655, 2547, 2459, 2372, 2200, 2190, 2142, 2045, 2036, 2003, 1923, 1907, 1861, 1782, 1705, 1661, 1626, 1616, 1606, 1572, 1522, 1474, 1433, 1399, 1326, 1325, 1324, 1281, 1215, 1203, 1203, 1180, 1127, 1103, 1086, 1061, 1046, 987, 983, 982, 962, 954, 935, 925, 923, 913, 905, 869, 843, 841, 814, 806, 801, 791, 790, 790, 786, 782, 781, 777, 774, 772, 762, 757, 751, 744, 735, 731, 729, 726, 724, 724, 723, 721, 720, 707, 706, 704, 704, 697, 695, 684, 682, 666, 661, 660, 655, 646, 644, 638, 637, 629, 628, 628, 627]\n"
     ]
    }
   ],
   "source": [
    "# Store text and size in lists for making DataFrame\n",
    "text = [word.encode('utf-8') for word, count in fdist.most_common(100)[1:]]\n",
    "size = [count for word, count in fdist.most_common(100)[1:]]\n",
    "print text[:]\n",
    "print size[:]"
   ]
  },
  {
   "cell_type": "code",
   "execution_count": 25,
   "metadata": {
    "collapsed": true
   },
   "outputs": [],
   "source": [
    "data = pd.DataFrame(text, columns=['text'])\n",
    "data['size'] = size\n",
    "data.to_csv('declined.csv')"
   ]
  },
  {
   "cell_type": "code",
   "execution_count": 31,
   "metadata": {
    "collapsed": false
   },
   "outputs": [
    {
     "name": "stdout",
     "output_type": "stream",
     "text": [
      "Rows:  2736\n",
      "[u'The', u'Center', u'for', u'Fiction', u'has', u'gone', u'through', u'tremendous', u'growth', u'in']\n",
      "349289\n",
      "13880\n",
      "['organization', 'website', 'community', 'staff', 'grant', 'services', 'service', 'programs', 'board', 'strategic', 'years', '\\xe2\\x80\\x99', 'program', 'plan', 'work', 'current', 'taproot', 'year', 'brand', 'support', 'donors', 'development', 'mission', 'marketing', 'time', 'key', '\\xe2\\x82\\xac\\xe2\\x84\\xa2', 'information', 'foundation', 'annual', 'report', 'resources', 'strategy', 'provide', 'site', 'members', 'identity', 'volunteers', 'funding', 'growth', 'agency', 'develop', 'public', 'process', 'brochure', 'serve', 'school', 'people', 'capacity', 'messages', 'potential', 'increase', 'create', 'fundraising', 'youth', '\\xc3\\xa2', 'organizational', 'effective', 'center', 'goals', 'project', 'past', 'planning', 'students', 'funders', 'impact', 'branding', 'management', 'professional', 'health', 'team', 'materials', 'financial', 'communications', 'web', 'make', 'clients', 'donor', 'children', 'efforts', 'visual', 'order', 'effectively', 'messaging', 'critical', 'families', 'education', 'high', 'database', 'volunteer', 'design', 'future', 'organizations', 'communicate', 'strong', 'message', 'build', 'based', 'important', 'system', 'data', 'logo', 'individual', 'area', 'leadership', 'expertise', 'reach', 'success', 'partners', 'including', 'expand', 'opportunities', 'ability', 'long', 'training', 'stakeholders', 'quality', 'building', 'improve', 'social', 'online', 'clear', 'audiences', 'care', 'schools', '\\xc2\\xbf', 'assistance', 'focus', 'working', 'providing', 'number', 'director', 'outreach', 'access', 'city', 'addition', 'communities', 'major', 'meet', 'communication', 'individuals', 'supporters', 'vision', 'base', 'developing', 'continue', 'part', 'developed', 'increased']\n",
      "['organization', 'website', 'community', 'staff', 'grant', 'services', 'service', 'programs', 'board', 'strategic', 'years', '\\xe2\\x80\\x99', 'program', 'plan', 'work', 'current', 'taproot', 'year', 'brand', 'support', 'donors', 'development', 'mission', 'marketing', 'time', 'key', '\\xe2\\x82\\xac\\xe2\\x84\\xa2', 'information', 'foundation', 'annual', 'report', 'resources', 'strategy', 'provide', 'site', 'members', 'identity', 'volunteers', 'funding', 'growth', 'agency', 'develop', 'public', 'process', 'brochure', 'serve', 'school', 'people', 'capacity', 'messages', 'potential', 'increase', 'create', 'fundraising', 'youth', '\\xc3\\xa2', 'organizational', 'effective', 'center', 'goals', 'project', 'past', 'planning', 'students', 'funders', 'impact', 'branding', 'management', 'professional', 'health', 'team', 'materials', 'financial', 'communications', 'web', 'make', 'clients', 'donor', 'children', 'efforts', 'visual', 'order', 'effectively', 'messaging', 'critical', 'families', 'education', 'high', 'database', 'volunteer', 'design', 'future', 'organizations', 'communicate', 'strong', 'message', 'build', 'based', 'important', 'system', 'data', 'logo', 'individual', 'area', 'leadership', 'expertise', 'reach', 'success', 'partners', 'including', 'expand', 'opportunities', 'ability', 'long', 'training', 'stakeholders', 'quality', 'building', 'improve', 'social', 'online', 'clear', 'audiences', 'care', 'schools', '\\xc2\\xbf', 'assistance', 'focus', 'working', 'providing', 'number', 'director', 'outreach', 'access', 'city', 'addition', 'communities', 'major', 'meet', 'communication', 'individuals', 'supporters', 'vision', 'base', 'developing', 'continue', 'part', 'developed', 'increased']\n",
      "[100, 85, 82, 80, 79, 75, 73, 71, 65, 62, 61, 61, 60, 57, 55, 55, 52, 52, 51, 50, 46, 46, 45, 44, 43, 43, 42, 39, 39, 37, 36, 34, 34, 34, 34, 34, 33, 32, 31, 31, 30, 30, 30, 29, 28, 27, 27, 26, 26, 26, 26, 26, 26, 25, 25, 24, 23, 23, 22, 22, 22, 22, 22, 22, 22, 21, 21, 21, 21, 20, 20, 20, 20, 20, 20, 20, 20, 20, 20, 20, 19, 19, 19, 19, 19, 19, 19, 19, 19, 18, 18, 18, 18, 18, 18, 18, 17, 17, 17, 17, 17, 16, 16, 16, 16, 16, 16, 16, 16, 16, 16, 15, 15, 15, 15, 15, 15, 15, 14, 14, 14, 14, 14, 14, 14, 14, 14, 13, 13, 13, 13, 13, 13, 13, 13, 13, 13, 13, 13, 13, 13, 13, 13, 13, 13, 13, 13, 12, 12]\n"
     ]
    }
   ],
   "source": [
    "# Create a Dataframe to store 'grant_need' text by filtering project status = Complete\n",
    "complete = pd.DataFrame(df[df['project status'] == 'Complete']['grant_need'])\n",
    "# Drop NaN\n",
    "complete.dropna(inplace = True)\n",
    "# Reset index\n",
    "complete.reset_index(inplace = True)\n",
    "# Delete index column\n",
    "complete.pop('index')\n",
    "print 'Rows: ', complete.shape[0]\n",
    "# Join text\n",
    "raw = ' '.join(complete['grant_need'])\n",
    "\n",
    "# Tokenize raw text\n",
    "tokens = nltk.wordpunct_tokenize(raw)\n",
    "print tokens[:10]\n",
    "\n",
    "# Lower case words\n",
    "tokens = [w.lower() for w in tokens]\n",
    "\n",
    "# Remove stopwords\n",
    "words = [word for word in tokens if word not in stop]\n",
    "print len(words)\n",
    "\n",
    "# Remove punctuations and numbers\n",
    "punctuation = re.compile(r'[\\[ \\] \\s -.?!,\"/\\=:;()|0-9]') # punctuation and numbers to be removed\n",
    "words = [punctuation.sub(\"\", word) for word in words]\n",
    "\n",
    "# Frequency distribution of words\n",
    "fdist = nltk.FreqDist(words)\n",
    "print len(fdist.most_common())\n",
    "\n",
    "# Store text and size in lists for making DataFrame\n",
    "text = [word.encode('utf-8') for word, count in fdist.most_common(150)[1:]]\n",
    "size = [int(count/25.0) for word, count in fdist.most_common(150)[1:]] # Divided by 25 and converted to int for D3 Color Domain\n",
    "print text[:]\n",
    "print text[:]\n",
    "print size[:]\n",
    "\n",
    "data = pd.DataFrame(text, columns=['text'])\n",
    "data['size'] = size\n",
    "data.to_csv('complete.csv')"
   ]
  },
  {
   "cell_type": "code",
   "execution_count": 34,
   "metadata": {
    "collapsed": false
   },
   "outputs": [
    {
     "name": "stdout",
     "output_type": "stream",
     "text": [
      "Rows:  4472\n",
      "[u'Our', u'website', u'was', u'last', u'updated', u'six', u'years', u'ago', u'.', u'Since']\n",
      "508768\n",
      "17376\n",
      "['website', 'organization', 'community', 'services', 'grant', 'staff', 'service', 'programs', 'program', 'board', 'years', 'strategic', 'support', 'work', 'current', '\\xe2\\x80\\x99', 'plan', 'marketing', 'year', 'mission', 'information', 'time', 'development', 'brand', 'donors', 'site', '\\xe2\\x82\\xac\\xe2\\x84\\xa2', 'key', 'provide', 'taproot', 'members', 'resources', 'foundation', 'funding', 'public', 'strategy', 'school', 'develop', 'people', 'process', 'potential', 'fundraising', 'increase', 'annual', 'volunteers', 'growth', 'report', 'serve', 'web', 'create', 'make', 'capacity', 'center', 'agency', 'identity', 'education', 'students', 'clients', 'effective', 'health', 'efforts', 'planning', 'impact', 'organizational', 'messages', 'online', '\\xc3\\xa2', 'funders', 'management', 'donor', 'project', 'goals', 'organizations', 'communications', 'order', 'professional', 'message', 'materials', 'financial', 'database', 'youth', 'past', 'families', 'effectively', 'social', 'ability', 'data', 'messaging', 'children', 'branding', 'assistance', 'critical', 'brochure', 'build', 'building', 'strong', 'area', 'including', 'reach', 'care', 'volunteer', 'design', 'communicate', 'system', 'expertise', 'future', 'important', 'based', 'access', 'director', 'communities', 'team', 'success', 'individual', 'opportunities', 'expand', 'individuals', 'improve', 'partners', 'leadership', 'high', 'audiences', 'long', 'visual', 'clear', 'media', 'schools', 'training', 'number', 'developing', 'communication', 'outreach', 'stakeholders', 'national', 'base', 'needed', 'working', 'local', 'change', 'content', 'limited', 'focus', 'audience', 'housing', 'vision', 'quality', 'business', 'part', 'tool']\n",
      "[119, 106, 91, 76, 75, 72, 70, 67, 62, 62, 61, 58, 58, 57, 54, 54, 53, 50, 48, 47, 46, 46, 45, 44, 43, 42, 40, 39, 37, 37, 37, 36, 34, 34, 34, 33, 32, 31, 31, 30, 29, 28, 28, 28, 27, 27, 26, 26, 26, 26, 25, 24, 24, 24, 23, 23, 22, 22, 22, 22, 22, 22, 22, 22, 22, 22, 21, 21, 21, 21, 21, 20, 20, 20, 20, 20, 20, 20, 20, 20, 20, 20, 20, 19, 19, 19, 19, 19, 18, 18, 18, 18, 18, 18, 18, 17, 17, 17, 17, 17, 17, 17, 17, 17, 17, 17, 17, 16, 16, 16, 16, 16, 16, 16, 15, 15, 15, 15, 15, 15, 15, 15, 15, 15, 15, 15, 15, 14, 14, 14, 14, 14, 14, 14, 14, 14, 14, 14, 14, 14, 14, 13, 13, 13, 13, 13, 13, 13, 13]\n"
     ]
    }
   ],
   "source": [
    "# Create a Dataframe to store 'grant_need' text by filtering project status = 'Declined'\n",
    "declined = pd.DataFrame(df[df['project status'] == 'Declined']['grant_need'])\n",
    "# Drop NaN\n",
    "declined.dropna(inplace = True)\n",
    "# Reset index\n",
    "declined.reset_index(inplace = True)\n",
    "# Delete index column\n",
    "declined.pop('index')\n",
    "print 'Rows: ', declined.shape[0]\n",
    "# Join text\n",
    "raw = ' '.join(declined['grant_need'])\n",
    "\n",
    "# Tokenize raw text\n",
    "tokens = nltk.wordpunct_tokenize(raw)\n",
    "print tokens[:10]\n",
    "\n",
    "# Lower case words\n",
    "tokens = [w.lower() for w in tokens]\n",
    "\n",
    "# Remove stopwords\n",
    "words = [word for word in tokens if word not in stop]\n",
    "print len(words)\n",
    "\n",
    "# Remove punctuations and numbers\n",
    "punctuation = re.compile(r'[\\[ \\] \\s -.?!,\"/\\=:;()|0-9]') # punctuation and numbers to be removed\n",
    "words = [punctuation.sub(\"\", word) for word in words]\n",
    "\n",
    "# Frequency distribution of words\n",
    "fdist = nltk.FreqDist(words)\n",
    "print len(fdist.most_common())\n",
    "\n",
    "# Store text and size in lists for making DataFrame\n",
    "text = [word.encode('utf-8') for word, count in fdist.most_common(150)[1:]]\n",
    "size = [int(count/35.0) for word, count in fdist.most_common(150)[1:]] # Divided by 35 and converted to int for D3 Color Domain\n",
    "print text[:]\n",
    "print size[:]\n",
    "\n",
    "data = pd.DataFrame(text, columns=['text'])\n",
    "data['size'] = size\n",
    "data.to_csv('declined.csv')"
   ]
  },
  {
   "cell_type": "code",
   "execution_count": null,
   "metadata": {
    "collapsed": true
   },
   "outputs": [],
   "source": []
  }
 ],
 "metadata": {
  "kernelspec": {
   "display_name": "Python 2",
   "language": "python",
   "name": "python2"
  },
  "language_info": {
   "codemirror_mode": {
    "name": "ipython",
    "version": 2
   },
   "file_extension": ".py",
   "mimetype": "text/x-python",
   "name": "python",
   "nbconvert_exporter": "python",
   "pygments_lexer": "ipython2",
   "version": "2.7.10"
  }
 },
 "nbformat": 4,
 "nbformat_minor": 0
}

{
 "cells": [
  {
   "cell_type": "code",
   "execution_count": 1,
   "metadata": {
    "collapsed": false
   },
   "outputs": [],
   "source": [
    "import pandas as pd\n",
    "import json\n",
    "\n",
    "%matplotlib inline\n",
    "import matplotlib.pyplot as plt\n",
    "import seaborn as sns"
   ]
  },
  {
   "cell_type": "code",
   "execution_count": 2,
   "metadata": {
    "collapsed": false
   },
   "outputs": [
    {
     "data": {
      "text/html": [
       "<div>\n",
       "<table border=\"1\" class=\"dataframe\">\n",
       "  <thead>\n",
       "    <tr style=\"text-align: right;\">\n",
       "      <th></th>\n",
       "      <th>Account Id</th>\n",
       "      <th>Message Date</th>\n",
       "      <th>Message Name</th>\n",
       "      <th>Number of Records</th>\n",
       "      <th>Preference Type</th>\n",
       "    </tr>\n",
       "  </thead>\n",
       "  <tbody>\n",
       "    <tr>\n",
       "      <th>0</th>\n",
       "      <td>1057</td>\n",
       "      <td>2016-03-17</td>\n",
       "      <td>1</td>\n",
       "      <td>72</td>\n",
       "      <td>KP Education</td>\n",
       "    </tr>\n",
       "    <tr>\n",
       "      <th>1</th>\n",
       "      <td>1057</td>\n",
       "      <td>2016-03-26</td>\n",
       "      <td>1 day After Surgery Care</td>\n",
       "      <td>5</td>\n",
       "      <td>Care Continuum</td>\n",
       "    </tr>\n",
       "    <tr>\n",
       "      <th>2</th>\n",
       "      <td>1057</td>\n",
       "      <td>2016-03-25</td>\n",
       "      <td>1 day After Surgery Care</td>\n",
       "      <td>15</td>\n",
       "      <td>Care Continuum</td>\n",
       "    </tr>\n",
       "  </tbody>\n",
       "</table>\n",
       "</div>"
      ],
      "text/plain": [
       "   Account Id Message Date              Message Name  Number of Records  \\\n",
       "0        1057   2016-03-17                         1                 72   \n",
       "1        1057   2016-03-26  1 day After Surgery Care                  5   \n",
       "2        1057   2016-03-25  1 day After Surgery Care                 15   \n",
       "\n",
       "  Preference Type  \n",
       "0    KP Education  \n",
       "1  Care Continuum  \n",
       "2  Care Continuum  "
      ]
     },
     "execution_count": 2,
     "metadata": {},
     "output_type": "execute_result"
    }
   ],
   "source": [
    "df = pd.read_csv('kaiser_data_map.csv', parse_dates = ['Message Date'])\n",
    "df.head(3)"
   ]
  },
  {
   "cell_type": "code",
   "execution_count": 3,
   "metadata": {
    "collapsed": false
   },
   "outputs": [
    {
     "name": "stdout",
     "output_type": "stream",
     "text": [
      "Unique Preference Types:  ['KP Education', 'Care Continuum', 'Visit X', 'Chronic Disease Management', 'MNP']\n",
      "------------------------------------------------------------------\n",
      "Unique Account Ids:  [1057, 1031, 1075]\n"
     ]
    }
   ],
   "source": [
    "# Simple stats \n",
    "print 'Unique Preference Types: ', list(df['Preference Type'].unique())\n",
    "print '------------------------------------------------------------------'\n",
    "print 'Unique Account Ids: ', list(df['Account Id'].unique())"
   ]
  },
  {
   "cell_type": "code",
   "execution_count": 4,
   "metadata": {
    "collapsed": false
   },
   "outputs": [
    {
     "data": {
      "text/html": [
       "<div>\n",
       "<table border=\"1\" class=\"dataframe\">\n",
       "  <thead>\n",
       "    <tr style=\"text-align: right;\">\n",
       "      <th></th>\n",
       "      <th>Message Date</th>\n",
       "      <th>Number of Records</th>\n",
       "      <th>Preference Type</th>\n",
       "    </tr>\n",
       "  </thead>\n",
       "  <tbody>\n",
       "    <tr>\n",
       "      <th>0</th>\n",
       "      <td>2016-03-17</td>\n",
       "      <td>72</td>\n",
       "      <td>KP Education</td>\n",
       "    </tr>\n",
       "    <tr>\n",
       "      <th>1</th>\n",
       "      <td>2016-03-26</td>\n",
       "      <td>5</td>\n",
       "      <td>Care Continuum</td>\n",
       "    </tr>\n",
       "    <tr>\n",
       "      <th>2</th>\n",
       "      <td>2016-03-25</td>\n",
       "      <td>15</td>\n",
       "      <td>Care Continuum</td>\n",
       "    </tr>\n",
       "  </tbody>\n",
       "</table>\n",
       "</div>"
      ],
      "text/plain": [
       "  Message Date  Number of Records Preference Type\n",
       "0   2016-03-17                 72    KP Education\n",
       "1   2016-03-26                  5  Care Continuum\n",
       "2   2016-03-25                 15  Care Continuum"
      ]
     },
     "execution_count": 4,
     "metadata": {},
     "output_type": "execute_result"
    }
   ],
   "source": [
    "# Select columns needed for calendar view\n",
    "df = df[['Message Date', 'Number of Records', 'Preference Type']]\n",
    "df.head(3)"
   ]
  },
  {
   "cell_type": "code",
   "execution_count": 29,
   "metadata": {
    "collapsed": false
   },
   "outputs": [
    {
     "name": "stdout",
     "output_type": "stream",
     "text": [
      "3\n"
     ]
    },
    {
     "data": {
      "text/html": [
       "<div>\n",
       "<table border=\"1\" class=\"dataframe\">\n",
       "  <thead>\n",
       "    <tr style=\"text-align: right;\">\n",
       "      <th></th>\n",
       "      <th>Message Date</th>\n",
       "      <th>Number of Records</th>\n",
       "      <th>Preference Type</th>\n",
       "      <th>month</th>\n",
       "      <th>year</th>\n",
       "    </tr>\n",
       "  </thead>\n",
       "  <tbody>\n",
       "    <tr>\n",
       "      <th>0</th>\n",
       "      <td>2016-03-17</td>\n",
       "      <td>72</td>\n",
       "      <td>KP Education</td>\n",
       "      <td>3</td>\n",
       "      <td>2016</td>\n",
       "    </tr>\n",
       "    <tr>\n",
       "      <th>1</th>\n",
       "      <td>2016-03-26</td>\n",
       "      <td>5</td>\n",
       "      <td>Care Continuum</td>\n",
       "      <td>3</td>\n",
       "      <td>2016</td>\n",
       "    </tr>\n",
       "    <tr>\n",
       "      <th>2</th>\n",
       "      <td>2016-03-25</td>\n",
       "      <td>15</td>\n",
       "      <td>Care Continuum</td>\n",
       "      <td>3</td>\n",
       "      <td>2016</td>\n",
       "    </tr>\n",
       "  </tbody>\n",
       "</table>\n",
       "</div>"
      ],
      "text/plain": [
       "  Message Date  Number of Records Preference Type  month  year\n",
       "0   2016-03-17                 72    KP Education      3  2016\n",
       "1   2016-03-26                  5  Care Continuum      3  2016\n",
       "2   2016-03-25                 15  Care Continuum      3  2016"
      ]
     },
     "execution_count": 29,
     "metadata": {},
     "output_type": "execute_result"
    }
   ],
   "source": [
    "# Extract month from date\n",
    "print df['Message Date'][0].month\n",
    "df['month'] = df['Message Date'].apply(lambda d: d.month)\n",
    "df['year'] = df['Message Date'].apply(lambda d: d.year)\n",
    "df.head(3)"
   ]
  },
  {
   "cell_type": "code",
   "execution_count": 30,
   "metadata": {
    "collapsed": false
   },
   "outputs": [
    {
     "data": {
      "text/html": [
       "<div>\n",
       "<table border=\"1\" class=\"dataframe\">\n",
       "  <thead>\n",
       "    <tr style=\"text-align: right;\">\n",
       "      <th></th>\n",
       "      <th>date</th>\n",
       "      <th>num_records</th>\n",
       "      <th>pref_type</th>\n",
       "      <th>month</th>\n",
       "      <th>year</th>\n",
       "    </tr>\n",
       "  </thead>\n",
       "  <tbody>\n",
       "    <tr>\n",
       "      <th>0</th>\n",
       "      <td>2016-03-17</td>\n",
       "      <td>72</td>\n",
       "      <td>KP Education</td>\n",
       "      <td>3</td>\n",
       "      <td>2016</td>\n",
       "    </tr>\n",
       "    <tr>\n",
       "      <th>1</th>\n",
       "      <td>2016-03-26</td>\n",
       "      <td>5</td>\n",
       "      <td>Care Continuum</td>\n",
       "      <td>3</td>\n",
       "      <td>2016</td>\n",
       "    </tr>\n",
       "    <tr>\n",
       "      <th>2</th>\n",
       "      <td>2016-03-25</td>\n",
       "      <td>15</td>\n",
       "      <td>Care Continuum</td>\n",
       "      <td>3</td>\n",
       "      <td>2016</td>\n",
       "    </tr>\n",
       "  </tbody>\n",
       "</table>\n",
       "</div>"
      ],
      "text/plain": [
       "        date  num_records       pref_type  month  year\n",
       "0 2016-03-17           72    KP Education      3  2016\n",
       "1 2016-03-26            5  Care Continuum      3  2016\n",
       "2 2016-03-25           15  Care Continuum      3  2016"
      ]
     },
     "execution_count": 30,
     "metadata": {},
     "output_type": "execute_result"
    }
   ],
   "source": [
    "# Rename columns\n",
    "cols = ['date', 'num_records', 'pref_type', 'month', 'year']\n",
    "df.columns = cols\n",
    "df.head(3)"
   ]
  },
  {
   "cell_type": "code",
   "execution_count": 31,
   "metadata": {
    "collapsed": false
   },
   "outputs": [],
   "source": [
    "# Create dataframe after filtering by month and year\n",
    "jan_data = df[(df['month'] == 1) & (df['year'] == 2016)][['date', 'num_records', 'pref_type']]\n",
    "feb_data = df[(df['month'] == 2) & (df['year'] == 2016)][['date', 'num_records', 'pref_type']]\n",
    "mar_data = df[(df['month'] == 3) & (df['year'] == 2016)][['date', 'num_records', 'pref_type']]"
   ]
  },
  {
   "cell_type": "code",
   "execution_count": 32,
   "metadata": {
    "collapsed": false
   },
   "outputs": [
    {
     "data": {
      "text/html": [
       "<div>\n",
       "<table border=\"1\" class=\"dataframe\">\n",
       "  <thead>\n",
       "    <tr style=\"text-align: right;\">\n",
       "      <th></th>\n",
       "      <th>date</th>\n",
       "      <th>num_records</th>\n",
       "      <th>pref_type</th>\n",
       "    </tr>\n",
       "  </thead>\n",
       "  <tbody>\n",
       "    <tr>\n",
       "      <th>0</th>\n",
       "      <td>2016-02-25</td>\n",
       "      <td>1</td>\n",
       "      <td>Care Continuum</td>\n",
       "    </tr>\n",
       "    <tr>\n",
       "      <th>1</th>\n",
       "      <td>2016-02-23</td>\n",
       "      <td>1</td>\n",
       "      <td>Care Continuum</td>\n",
       "    </tr>\n",
       "    <tr>\n",
       "      <th>2</th>\n",
       "      <td>2016-02-29</td>\n",
       "      <td>1</td>\n",
       "      <td>Care Continuum</td>\n",
       "    </tr>\n",
       "  </tbody>\n",
       "</table>\n",
       "</div>"
      ],
      "text/plain": [
       "        date  num_records       pref_type\n",
       "0 2016-02-25            1  Care Continuum\n",
       "1 2016-02-23            1  Care Continuum\n",
       "2 2016-02-29            1  Care Continuum"
      ]
     },
     "execution_count": 32,
     "metadata": {},
     "output_type": "execute_result"
    }
   ],
   "source": [
    "# Get data for feb\n",
    "feb_data.reset_index(inplace = True)\n",
    "del feb_data['index']\n",
    "feb_data.head(3)"
   ]
  },
  {
   "cell_type": "code",
   "execution_count": 33,
   "metadata": {
    "collapsed": false
   },
   "outputs": [
    {
     "data": {
      "text/plain": [
       "[numpy.datetime64('2016-02-24T16:00:00.000000000-0800'),\n",
       " numpy.datetime64('2016-02-22T16:00:00.000000000-0800'),\n",
       " numpy.datetime64('2016-02-28T16:00:00.000000000-0800'),\n",
       " numpy.datetime64('2016-02-23T16:00:00.000000000-0800'),\n",
       " numpy.datetime64('2016-02-21T16:00:00.000000000-0800'),\n",
       " numpy.datetime64('2016-02-27T16:00:00.000000000-0800'),\n",
       " numpy.datetime64('2016-02-26T16:00:00.000000000-0800'),\n",
       " numpy.datetime64('2016-02-25T16:00:00.000000000-0800'),\n",
       " numpy.datetime64('2016-02-19T16:00:00.000000000-0800'),\n",
       " numpy.datetime64('2016-02-17T16:00:00.000000000-0800'),\n",
       " numpy.datetime64('2016-02-10T16:00:00.000000000-0800'),\n",
       " numpy.datetime64('2016-02-18T16:00:00.000000000-0800'),\n",
       " numpy.datetime64('2016-02-04T16:00:00.000000000-0800'),\n",
       " numpy.datetime64('2016-02-02T16:00:00.000000000-0800'),\n",
       " numpy.datetime64('2016-02-16T16:00:00.000000000-0800'),\n",
       " numpy.datetime64('2016-02-15T16:00:00.000000000-0800'),\n",
       " numpy.datetime64('2016-02-07T16:00:00.000000000-0800'),\n",
       " numpy.datetime64('2016-02-14T16:00:00.000000000-0800'),\n",
       " numpy.datetime64('2016-02-20T16:00:00.000000000-0800'),\n",
       " numpy.datetime64('2016-02-13T16:00:00.000000000-0800'),\n",
       " numpy.datetime64('2016-02-12T16:00:00.000000000-0800'),\n",
       " numpy.datetime64('2016-02-09T16:00:00.000000000-0800'),\n",
       " numpy.datetime64('2016-02-08T16:00:00.000000000-0800'),\n",
       " numpy.datetime64('2016-02-06T16:00:00.000000000-0800'),\n",
       " numpy.datetime64('2016-02-05T16:00:00.000000000-0800'),\n",
       " numpy.datetime64('2016-02-11T16:00:00.000000000-0800'),\n",
       " numpy.datetime64('2016-02-03T16:00:00.000000000-0800'),\n",
       " numpy.datetime64('2016-02-01T16:00:00.000000000-0800'),\n",
       " numpy.datetime64('2016-01-31T16:00:00.000000000-0800')]"
      ]
     },
     "execution_count": 33,
     "metadata": {},
     "output_type": "execute_result"
    }
   ],
   "source": [
    "list(feb_data['date'].unique())"
   ]
  },
  {
   "cell_type": "code",
   "execution_count": 34,
   "metadata": {
    "collapsed": false
   },
   "outputs": [
    {
     "name": "stdout",
     "output_type": "stream",
     "text": [
      "145\n"
     ]
    },
    {
     "data": {
      "text/html": [
       "<div>\n",
       "<table border=\"1\" class=\"dataframe\">\n",
       "  <thead>\n",
       "    <tr style=\"text-align: right;\">\n",
       "      <th></th>\n",
       "      <th>date</th>\n",
       "      <th>num_records</th>\n",
       "      <th>pref_type</th>\n",
       "    </tr>\n",
       "  </thead>\n",
       "  <tbody>\n",
       "    <tr>\n",
       "      <th>0</th>\n",
       "      <td>2016-02-25</td>\n",
       "      <td>0</td>\n",
       "      <td>KP Education</td>\n",
       "    </tr>\n",
       "    <tr>\n",
       "      <th>0</th>\n",
       "      <td>2016-02-25</td>\n",
       "      <td>0</td>\n",
       "      <td>Care Continuum</td>\n",
       "    </tr>\n",
       "    <tr>\n",
       "      <th>0</th>\n",
       "      <td>2016-02-25</td>\n",
       "      <td>0</td>\n",
       "      <td>Visit X</td>\n",
       "    </tr>\n",
       "  </tbody>\n",
       "</table>\n",
       "</div>"
      ],
      "text/plain": [
       "        date  num_records       pref_type\n",
       "0 2016-02-25            0    KP Education\n",
       "0 2016-02-25            0  Care Continuum\n",
       "0 2016-02-25            0         Visit X"
      ]
     },
     "execution_count": 34,
     "metadata": {},
     "output_type": "execute_result"
    }
   ],
   "source": [
    "# Create a temporary dataframe to concatenate with month data\n",
    "pref_type = ['KP Education', 'Care Continuum', 'Visit X', 'Chronic Disease Management', 'MNP']\n",
    "df_temp = pd.DataFrame()\n",
    "for d in list(feb_data['date'].unique()):\n",
    "    for i in pref_type:\n",
    "        temp = pd.DataFrame({'date': [d], 'num_records': [0],'pref_type': [i]})\n",
    "        df_temp = pd.concat([df_temp, temp])\n",
    "    \n",
    "print df_temp.shape[0]\n",
    "df_temp.head(3)"
   ]
  },
  {
   "cell_type": "code",
   "execution_count": 35,
   "metadata": {
    "collapsed": false
   },
   "outputs": [
    {
     "name": "stdout",
     "output_type": "stream",
     "text": [
      "298\n"
     ]
    }
   ],
   "source": [
    "# Concatenate temp dataframe to month data\n",
    "feb_data = pd.concat([feb_data, df_temp])\n",
    "print feb_data.shape[0]"
   ]
  },
  {
   "cell_type": "code",
   "execution_count": 36,
   "metadata": {
    "collapsed": false
   },
   "outputs": [
    {
     "data": {
      "text/html": [
       "<div>\n",
       "<table border=\"1\" class=\"dataframe\">\n",
       "  <thead>\n",
       "    <tr style=\"text-align: right;\">\n",
       "      <th></th>\n",
       "      <th>date</th>\n",
       "      <th>pref_type</th>\n",
       "      <th>num_records</th>\n",
       "    </tr>\n",
       "  </thead>\n",
       "  <tbody>\n",
       "    <tr>\n",
       "      <th>0</th>\n",
       "      <td>2016-02-01</td>\n",
       "      <td>Care Continuum</td>\n",
       "      <td>0</td>\n",
       "    </tr>\n",
       "    <tr>\n",
       "      <th>1</th>\n",
       "      <td>2016-02-01</td>\n",
       "      <td>Chronic Disease Management</td>\n",
       "      <td>0</td>\n",
       "    </tr>\n",
       "    <tr>\n",
       "      <th>2</th>\n",
       "      <td>2016-02-01</td>\n",
       "      <td>KP Education</td>\n",
       "      <td>0</td>\n",
       "    </tr>\n",
       "    <tr>\n",
       "      <th>3</th>\n",
       "      <td>2016-02-01</td>\n",
       "      <td>MNP</td>\n",
       "      <td>0</td>\n",
       "    </tr>\n",
       "    <tr>\n",
       "      <th>4</th>\n",
       "      <td>2016-02-01</td>\n",
       "      <td>Visit X</td>\n",
       "      <td>86</td>\n",
       "    </tr>\n",
       "  </tbody>\n",
       "</table>\n",
       "</div>"
      ],
      "text/plain": [
       "        date                   pref_type  num_records\n",
       "0 2016-02-01              Care Continuum            0\n",
       "1 2016-02-01  Chronic Disease Management            0\n",
       "2 2016-02-01                KP Education            0\n",
       "3 2016-02-01                         MNP            0\n",
       "4 2016-02-01                     Visit X           86"
      ]
     },
     "execution_count": 36,
     "metadata": {},
     "output_type": "execute_result"
    }
   ],
   "source": [
    "# Group data by date and preference type\n",
    "calendar_data = feb_data.groupby(['date','pref_type'], as_index = False).sum()\n",
    "calendar_data.head()"
   ]
  },
  {
   "cell_type": "code",
   "execution_count": 37,
   "metadata": {
    "collapsed": true
   },
   "outputs": [],
   "source": [
    "# Write a *.tsv file\n",
    "calendar_data.to_csv('data.tsv', sep = '\\t', index = False)"
   ]
  },
  {
   "cell_type": "code",
   "execution_count": 38,
   "metadata": {
    "collapsed": false
   },
   "outputs": [
    {
     "data": {
      "text/plain": [
       "29"
      ]
     },
     "execution_count": 38,
     "metadata": {},
     "output_type": "execute_result"
    }
   ],
   "source": [
    "temp_df = pd.DataFrame({'date': list(calendar_data['date'].unique())})\n",
    "temp_df.shape[0]"
   ]
  },
  {
   "cell_type": "code",
   "execution_count": 39,
   "metadata": {
    "collapsed": false
   },
   "outputs": [
    {
     "name": "stdout",
     "output_type": "stream",
     "text": [
      "Preference Type:  KP Education\n",
      "Preference Type:  Care Continuum\n",
      "Preference Type:  Visit X\n",
      "Preference Type:  Chronic Disease Management\n",
      "Preference Type:  MNP\n",
      "Number of Days:  29\n",
      "Temporary Dataframe Columns:  ['date', 'KP Education', 'Care Continuum', 'Visit X', 'Chronic Disease Management', 'MNP', 'Total']\n"
     ]
    },
    {
     "data": {
      "text/html": [
       "<div>\n",
       "<table border=\"1\" class=\"dataframe\">\n",
       "  <thead>\n",
       "    <tr style=\"text-align: right;\">\n",
       "      <th></th>\n",
       "      <th>date</th>\n",
       "      <th>KP Education</th>\n",
       "      <th>Care Continuum</th>\n",
       "      <th>Visit X</th>\n",
       "      <th>Chronic Disease Management</th>\n",
       "      <th>MNP</th>\n",
       "      <th>Total</th>\n",
       "    </tr>\n",
       "  </thead>\n",
       "  <tbody>\n",
       "    <tr>\n",
       "      <th>0</th>\n",
       "      <td>2016-02-01</td>\n",
       "      <td>0</td>\n",
       "      <td>0</td>\n",
       "      <td>86</td>\n",
       "      <td>0</td>\n",
       "      <td>0</td>\n",
       "      <td>86</td>\n",
       "    </tr>\n",
       "    <tr>\n",
       "      <th>1</th>\n",
       "      <td>2016-02-02</td>\n",
       "      <td>0</td>\n",
       "      <td>0</td>\n",
       "      <td>92</td>\n",
       "      <td>0</td>\n",
       "      <td>0</td>\n",
       "      <td>92</td>\n",
       "    </tr>\n",
       "    <tr>\n",
       "      <th>2</th>\n",
       "      <td>2016-02-03</td>\n",
       "      <td>0</td>\n",
       "      <td>45</td>\n",
       "      <td>140</td>\n",
       "      <td>0</td>\n",
       "      <td>0</td>\n",
       "      <td>185</td>\n",
       "    </tr>\n",
       "  </tbody>\n",
       "</table>\n",
       "</div>"
      ],
      "text/plain": [
       "        date  KP Education  Care Continuum  Visit X  \\\n",
       "0 2016-02-01             0               0       86   \n",
       "1 2016-02-02             0               0       92   \n",
       "2 2016-02-03             0              45      140   \n",
       "\n",
       "   Chronic Disease Management  MNP  Total  \n",
       "0                           0    0     86  \n",
       "1                           0    0     92  \n",
       "2                           0    0    185  "
      ]
     },
     "execution_count": 39,
     "metadata": {},
     "output_type": "execute_result"
    }
   ],
   "source": [
    "temp_df = pd.DataFrame({'date': list(calendar_data['date'].unique())})\n",
    "for i, j in enumerate(pref_type):\n",
    "    print 'Preference Type: ', j\n",
    "    temp = calendar_data[calendar_data['pref_type'] == j]\n",
    "    temp_cols = ['date', str(i), j]\n",
    "    temp.columns = temp_cols\n",
    "    del temp[str(i)]\n",
    "    temp_df = pd.merge(temp_df, temp, how = 'inner', on = 'date')\n",
    "\n",
    "# Sum the columns to get total\n",
    "temp_df['Total'] = temp_df.sum(axis = 1)\n",
    "print 'Number of Days: ', temp_df.shape[0]\n",
    "print 'Temporary Dataframe Columns: ', list(temp_df.columns.values)\n",
    "temp_df.head(3)"
   ]
  },
  {
   "cell_type": "code",
   "execution_count": 40,
   "metadata": {
    "collapsed": false
   },
   "outputs": [
    {
     "data": {
      "text/html": [
       "<div>\n",
       "<table border=\"1\" class=\"dataframe\">\n",
       "  <thead>\n",
       "    <tr style=\"text-align: right;\">\n",
       "      <th></th>\n",
       "      <th>KP Education</th>\n",
       "      <th>Care Continuum</th>\n",
       "      <th>Visit X</th>\n",
       "      <th>Chronic Disease Management</th>\n",
       "      <th>MNP</th>\n",
       "      <th>Total</th>\n",
       "    </tr>\n",
       "  </thead>\n",
       "  <tbody>\n",
       "    <tr>\n",
       "      <th>count</th>\n",
       "      <td>29.000000</td>\n",
       "      <td>29.000000</td>\n",
       "      <td>29.000000</td>\n",
       "      <td>29</td>\n",
       "      <td>29</td>\n",
       "      <td>29.000000</td>\n",
       "    </tr>\n",
       "    <tr>\n",
       "      <th>mean</th>\n",
       "      <td>329.586207</td>\n",
       "      <td>2448.620690</td>\n",
       "      <td>273.965517</td>\n",
       "      <td>0</td>\n",
       "      <td>0</td>\n",
       "      <td>3052.172414</td>\n",
       "    </tr>\n",
       "    <tr>\n",
       "      <th>std</th>\n",
       "      <td>570.343914</td>\n",
       "      <td>11008.971859</td>\n",
       "      <td>153.475797</td>\n",
       "      <td>0</td>\n",
       "      <td>0</td>\n",
       "      <td>11073.592503</td>\n",
       "    </tr>\n",
       "    <tr>\n",
       "      <th>min</th>\n",
       "      <td>0.000000</td>\n",
       "      <td>0.000000</td>\n",
       "      <td>36.000000</td>\n",
       "      <td>0</td>\n",
       "      <td>0</td>\n",
       "      <td>79.000000</td>\n",
       "    </tr>\n",
       "    <tr>\n",
       "      <th>25%</th>\n",
       "      <td>1.000000</td>\n",
       "      <td>0.000000</td>\n",
       "      <td>94.000000</td>\n",
       "      <td>0</td>\n",
       "      <td>0</td>\n",
       "      <td>185.000000</td>\n",
       "    </tr>\n",
       "    <tr>\n",
       "      <th>50%</th>\n",
       "      <td>309.000000</td>\n",
       "      <td>3.000000</td>\n",
       "      <td>341.000000</td>\n",
       "      <td>0</td>\n",
       "      <td>0</td>\n",
       "      <td>682.000000</td>\n",
       "    </tr>\n",
       "    <tr>\n",
       "      <th>75%</th>\n",
       "      <td>362.000000</td>\n",
       "      <td>50.000000</td>\n",
       "      <td>385.000000</td>\n",
       "      <td>0</td>\n",
       "      <td>0</td>\n",
       "      <td>757.000000</td>\n",
       "    </tr>\n",
       "    <tr>\n",
       "      <th>max</th>\n",
       "      <td>3178.000000</td>\n",
       "      <td>58594.000000</td>\n",
       "      <td>515.000000</td>\n",
       "      <td>0</td>\n",
       "      <td>0</td>\n",
       "      <td>59440.000000</td>\n",
       "    </tr>\n",
       "  </tbody>\n",
       "</table>\n",
       "</div>"
      ],
      "text/plain": [
       "       KP Education  Care Continuum     Visit X  Chronic Disease Management  \\\n",
       "count     29.000000       29.000000   29.000000                          29   \n",
       "mean     329.586207     2448.620690  273.965517                           0   \n",
       "std      570.343914    11008.971859  153.475797                           0   \n",
       "min        0.000000        0.000000   36.000000                           0   \n",
       "25%        1.000000        0.000000   94.000000                           0   \n",
       "50%      309.000000        3.000000  341.000000                           0   \n",
       "75%      362.000000       50.000000  385.000000                           0   \n",
       "max     3178.000000    58594.000000  515.000000                           0   \n",
       "\n",
       "       MNP         Total  \n",
       "count   29     29.000000  \n",
       "mean     0   3052.172414  \n",
       "std      0  11073.592503  \n",
       "min      0     79.000000  \n",
       "25%      0    185.000000  \n",
       "50%      0    682.000000  \n",
       "75%      0    757.000000  \n",
       "max      0  59440.000000  "
      ]
     },
     "execution_count": 40,
     "metadata": {},
     "output_type": "execute_result"
    }
   ],
   "source": [
    "temp_df.describe()"
   ]
  },
  {
   "cell_type": "code",
   "execution_count": 41,
   "metadata": {
    "collapsed": true
   },
   "outputs": [],
   "source": [
    "# Write a *.tsv file\n",
    "temp_df.to_csv('calendar.tsv', sep = '\\t', index = False)"
   ]
  },
  {
   "cell_type": "code",
   "execution_count": 42,
   "metadata": {
    "collapsed": false
   },
   "outputs": [
    {
     "data": {
      "image/png": "[encoded data removed]",
      "text/plain": [
       "<matplotlib.figure.Figure at 0x11a25d8d0>"
      ]
     },
     "metadata": {},
     "output_type": "display_data"
    }
   ],
   "source": [
    "# Histogram\n",
    "plt.figure(figsize = (20, 10))\n",
    "sns.distplot(temp_df['Total'], kde = False)\n",
    "plt.tick_params(axis = 'both', which = 'major', labelsize = 14)"
   ]
  },
  {
   "cell_type": "markdown",
   "metadata": {},
   "source": [
    "### Change data structure to JSON"
   ]
  },
  {
   "cell_type": "code",
   "execution_count": 43,
   "metadata": {
    "collapsed": false
   },
   "outputs": [
    {
     "data": {
      "text/html": [
       "<div>\n",
       "<table border=\"1\" class=\"dataframe\">\n",
       "  <thead>\n",
       "    <tr style=\"text-align: right;\">\n",
       "      <th></th>\n",
       "      <th>date</th>\n",
       "      <th>num_records</th>\n",
       "      <th>pref_type</th>\n",
       "    </tr>\n",
       "  </thead>\n",
       "  <tbody>\n",
       "    <tr>\n",
       "      <th>0</th>\n",
       "      <td>2016-02-25</td>\n",
       "      <td>1</td>\n",
       "      <td>Care Continuum</td>\n",
       "    </tr>\n",
       "    <tr>\n",
       "      <th>1</th>\n",
       "      <td>2016-02-23</td>\n",
       "      <td>1</td>\n",
       "      <td>Care Continuum</td>\n",
       "    </tr>\n",
       "    <tr>\n",
       "      <th>2</th>\n",
       "      <td>2016-02-29</td>\n",
       "      <td>1</td>\n",
       "      <td>Care Continuum</td>\n",
       "    </tr>\n",
       "  </tbody>\n",
       "</table>\n",
       "</div>"
      ],
      "text/plain": [
       "        date  num_records       pref_type\n",
       "0 2016-02-25            1  Care Continuum\n",
       "1 2016-02-23            1  Care Continuum\n",
       "2 2016-02-29            1  Care Continuum"
      ]
     },
     "execution_count": 43,
     "metadata": {},
     "output_type": "execute_result"
    }
   ],
   "source": [
    "temp = feb_data.copy()\n",
    "temp.head(3)"
   ]
  },
  {
   "cell_type": "code",
   "execution_count": 44,
   "metadata": {
    "collapsed": false
   },
   "outputs": [],
   "source": [
    "# Convert datetime to string\n",
    "temp['date'] = temp['date'].apply(lambda d: d.strftime('%Y-%m-%d'))"
   ]
  },
  {
   "cell_type": "code",
   "execution_count": 45,
   "metadata": {
    "collapsed": false
   },
   "outputs": [
    {
     "data": {
      "text/html": [
       "<div>\n",
       "<table border=\"1\" class=\"dataframe\">\n",
       "  <thead>\n",
       "    <tr style=\"text-align: right;\">\n",
       "      <th></th>\n",
       "      <th></th>\n",
       "      <th>num_records</th>\n",
       "    </tr>\n",
       "    <tr>\n",
       "      <th>date</th>\n",
       "      <th>pref_type</th>\n",
       "      <th></th>\n",
       "    </tr>\n",
       "  </thead>\n",
       "  <tbody>\n",
       "    <tr>\n",
       "      <th rowspan=\"5\" valign=\"top\">2016-02-01</th>\n",
       "      <th>Care Continuum</th>\n",
       "      <td>0</td>\n",
       "    </tr>\n",
       "    <tr>\n",
       "      <th>Chronic Disease Management</th>\n",
       "      <td>0</td>\n",
       "    </tr>\n",
       "    <tr>\n",
       "      <th>KP Education</th>\n",
       "      <td>0</td>\n",
       "    </tr>\n",
       "    <tr>\n",
       "      <th>MNP</th>\n",
       "      <td>0</td>\n",
       "    </tr>\n",
       "    <tr>\n",
       "      <th>Visit X</th>\n",
       "      <td>86</td>\n",
       "    </tr>\n",
       "  </tbody>\n",
       "</table>\n",
       "</div>"
      ],
      "text/plain": [
       "                                       num_records\n",
       "date       pref_type                              \n",
       "2016-02-01 Care Continuum                        0\n",
       "           Chronic Disease Management            0\n",
       "           KP Education                          0\n",
       "           MNP                                   0\n",
       "           Visit X                              86"
      ]
     },
     "execution_count": 45,
     "metadata": {},
     "output_type": "execute_result"
    }
   ],
   "source": [
    "grouped = temp.groupby(['date','pref_type'], as_index = True).sum()\n",
    "grouped.head(5)"
   ]
  },
  {
   "cell_type": "code",
   "execution_count": 47,
   "metadata": {
    "collapsed": false,
    "scrolled": false
   },
   "outputs": [],
   "source": [
    "# Creating json of grouped by object\n",
    "from collections import defaultdict\n",
    "\n",
    "results = defaultdict(lambda: defaultdict(dict))\n",
    "\n",
    "for index, value in grouped.itertuples():\n",
    "    for i, key in enumerate(index):\n",
    "        if i == 0:\n",
    "            nested = results[key]\n",
    "        elif i == len(index) - 1:\n",
    "            nested[key] = value\n",
    "        else:\n",
    "            nested = nested[key]\n",
    "\n",
    "# Print json\n",
    "#print json.dumps(results, indent = 4)"
   ]
  },
  {
   "cell_type": "code",
   "execution_count": null,
   "metadata": {
    "collapsed": false
   },
   "outputs": [],
   "source": []
  },
  {
   "cell_type": "code",
   "execution_count": null,
   "metadata": {
    "collapsed": true
   },
   "outputs": [],
   "source": []
  }
 ],
 "metadata": {
  "kernelspec": {
   "display_name": "Python 2",
   "language": "python",
   "name": "python2"
  },
  "language_info": {
   "codemirror_mode": {
    "name": "ipython",
    "version": 2
   },
   "file_extension": ".py",
   "mimetype": "text/x-python",
   "name": "python",
   "nbconvert_exporter": "python",
   "pygments_lexer": "ipython2",
   "version": "2.7.11"
  }
 },
 "nbformat": 4,
 "nbformat_minor": 0
}
